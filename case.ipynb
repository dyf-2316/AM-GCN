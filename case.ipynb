{
 "cells": [
  {
   "cell_type": "code",
   "execution_count": 4,
   "id": "aaecb1dc",
   "metadata": {
    "ExecuteTime": {
     "end_time": "2022-07-16T06:52:08.714299Z",
     "start_time": "2022-07-16T06:52:08.038902Z"
    }
   },
   "outputs": [
    {
     "ename": "ModuleNotFoundError",
     "evalue": "No module named 'sklearn'",
     "output_type": "error",
     "traceback": [
      "\u001b[0;31m---------------------------------------------------------------------------\u001b[0m",
      "\u001b[0;31mModuleNotFoundError\u001b[0m                       Traceback (most recent call last)",
      "Input \u001b[0;32mIn [4]\u001b[0m, in \u001b[0;36m<cell line: 5>\u001b[0;34m()\u001b[0m\n\u001b[1;32m      3\u001b[0m \u001b[38;5;28;01mimport\u001b[39;00m \u001b[38;5;21;01mtorch\u001b[39;00m\n\u001b[1;32m      4\u001b[0m \u001b[38;5;28;01mimport\u001b[39;00m \u001b[38;5;21;01mpandas\u001b[39;00m \u001b[38;5;28;01mas\u001b[39;00m \u001b[38;5;21;01mpd\u001b[39;00m\n\u001b[0;32m----> 5\u001b[0m \u001b[38;5;28;01mfrom\u001b[39;00m \u001b[38;5;21;01msklearn\u001b[39;00m\u001b[38;5;21;01m.\u001b[39;00m\u001b[38;5;21;01mpreprocessing\u001b[39;00m \u001b[38;5;28;01mimport\u001b[39;00m MultiLabelBinarizer\n",
      "\u001b[0;31mModuleNotFoundError\u001b[0m: No module named 'sklearn'"
     ]
    }
   ],
   "source": [
    "import numpy as np\n",
    "import scipy.sparse as sp\n",
    "import torch\n",
    "import pandas as pd\n",
    "from sklearn.preprocessing import MultiLabelBinarizer"
   ]
  },
  {
   "cell_type": "code",
   "execution_count": 23,
   "id": "b3314015",
   "metadata": {
    "ExecuteTime": {
     "end_time": "2022-07-14T14:21:48.411772Z",
     "start_time": "2022-07-14T14:21:48.403264Z"
    }
   },
   "outputs": [],
   "source": [
    "path='/Users/dyf/PycharmProjects/AM-GNN/data/cora/'\n",
    "dataset='cora'"
   ]
  },
  {
   "cell_type": "code",
   "execution_count": 14,
   "id": "2fd86bc2",
   "metadata": {
    "ExecuteTime": {
     "end_time": "2022-07-14T14:09:32.379843Z",
     "start_time": "2022-07-14T14:09:32.375047Z"
    }
   },
   "outputs": [],
   "source": [
    "path='/Users/dyf/PycharmProjects/AM-GNN/data/citeseer/'\n",
    "dataset='citeseer'"
   ]
  },
  {
   "cell_type": "code",
   "execution_count": 24,
   "id": "cadd7ffe",
   "metadata": {
    "ExecuteTime": {
     "end_time": "2022-07-14T14:21:53.164111Z",
     "start_time": "2022-07-14T14:21:50.046349Z"
    }
   },
   "outputs": [
    {
     "name": "stdout",
     "output_type": "stream",
     "text": [
      "Loading cora dataset...\n"
     ]
    }
   ],
   "source": [
    "print('Loading {} dataset...'.format(dataset))\n",
    "\n",
    "idx_features_labels = np.genfromtxt(\"{}{}.content\".format(path, dataset),\n",
    "                                    dtype=np.dtype(str))\n",
    "features = sp.csr_matrix(idx_features_labels[:, 1:-1], dtype=np.float32)\n",
    "\n",
    "classes = set(idx_features_labels[:, -1])\n",
    "classes_dict = {c: i for i, c in\n",
    "                enumerate(classes)}\n",
    "labels = np.array(list(map(classes_dict.get, idx_features_labels[:, -1])),\n",
    "                         dtype=np.int32)\n",
    "\n",
    "# 构建图拓扑结构\n",
    "idx = np.array(idx_features_labels[:, 0], dtype=str)\n",
    "idx_map = {j: i for i, j in enumerate(idx)}"
   ]
  },
  {
   "cell_type": "code",
   "execution_count": 30,
   "id": "f50ca0a7",
   "metadata": {
    "ExecuteTime": {
     "end_time": "2022-07-14T14:25:45.021587Z",
     "start_time": "2022-07-14T14:25:45.007158Z"
    }
   },
   "outputs": [
    {
     "data": {
      "text/plain": [
       "5    327\n",
       "4    161\n",
       "1    128\n",
       "2    116\n",
       "0    107\n",
       "6    106\n",
       "3     55\n",
       "dtype: int64"
      ]
     },
     "execution_count": 30,
     "metadata": {},
     "output_type": "execute_result"
    }
   ],
   "source": [
    "pd.value_counts(labels[0:1000])"
   ]
  },
  {
   "cell_type": "code",
   "execution_count": 27,
   "id": "24d93238",
   "metadata": {
    "ExecuteTime": {
     "end_time": "2022-07-14T14:22:08.065597Z",
     "start_time": "2022-07-14T14:22:08.057174Z"
    }
   },
   "outputs": [
    {
     "data": {
      "text/plain": [
       "2708"
      ]
     },
     "execution_count": 27,
     "metadata": {},
     "output_type": "execute_result"
    }
   ],
   "source": [
    "len(labels)"
   ]
  },
  {
   "cell_type": "code",
   "execution_count": 31,
   "id": "24f22d3c",
   "metadata": {
    "ExecuteTime": {
     "end_time": "2022-07-14T14:28:49.656121Z",
     "start_time": "2022-07-14T14:28:49.642199Z"
    }
   },
   "outputs": [],
   "source": [
    "classes_list = {}\n",
    "for idx, label in enumerate(labels):\n",
    "    if label not in classes_list:\n",
    "        classes_list[label] = []\n",
    "    classes_list[label].append(idx)"
   ]
  },
  {
   "cell_type": "code",
   "execution_count": 40,
   "id": "ab90b944",
   "metadata": {
    "ExecuteTime": {
     "end_time": "2022-07-14T14:34:43.581442Z",
     "start_time": "2022-07-14T14:34:43.571604Z"
    }
   },
   "outputs": [],
   "source": [
    "label_per_class = 60\n",
    "idx_train = []\n",
    "for lable, l in classes_list.items():\n",
    "    idx_train += l[:label_per_class]"
   ]
  },
  {
   "cell_type": "code",
   "execution_count": 42,
   "id": "3ba3644a",
   "metadata": {
    "ExecuteTime": {
     "end_time": "2022-07-14T14:34:48.501434Z",
     "start_time": "2022-07-14T14:34:48.490239Z"
    }
   },
   "outputs": [
    {
     "data": {
      "text/plain": [
       "420"
      ]
     },
     "execution_count": 42,
     "metadata": {},
     "output_type": "execute_result"
    }
   ],
   "source": [
    "len(idx_train)"
   ]
  },
  {
   "cell_type": "code",
   "execution_count": 2,
   "id": "2f4c079c",
   "metadata": {
    "ExecuteTime": {
     "end_time": "2022-07-16T06:51:52.523612Z",
     "start_time": "2022-07-16T06:51:52.518681Z"
    }
   },
   "outputs": [],
   "source": [
    "y = [1,2,3,4,4,2,4,2,4,2,4,3]"
   ]
  },
  {
   "cell_type": "code",
   "execution_count": 3,
   "id": "2ced5eaf",
   "metadata": {
    "ExecuteTime": {
     "end_time": "2022-07-16T06:52:04.875899Z",
     "start_time": "2022-07-16T06:52:04.624301Z"
    }
   },
   "outputs": [
    {
     "ename": "NameError",
     "evalue": "name 'MultiLabelBinarizer' is not defined",
     "output_type": "error",
     "traceback": [
      "\u001b[0;31m---------------------------------------------------------------------------\u001b[0m",
      "\u001b[0;31mNameError\u001b[0m                                 Traceback (most recent call last)",
      "Input \u001b[0;32mIn [3]\u001b[0m, in \u001b[0;36m<cell line: 1>\u001b[0;34m()\u001b[0m\n\u001b[0;32m----> 1\u001b[0m binarizer \u001b[38;5;241m=\u001b[39m \u001b[43mMultiLabelBinarizer\u001b[49m(sparse_output\u001b[38;5;241m=\u001b[39m\u001b[38;5;28;01mTrue\u001b[39;00m)\n",
      "\u001b[0;31mNameError\u001b[0m: name 'MultiLabelBinarizer' is not defined"
     ]
    }
   ],
   "source": [
    "binarizer = MultiLabelBinarizer(sparse_output=True)"
   ]
  },
  {
   "cell_type": "code",
   "execution_count": null,
   "id": "856029c2",
   "metadata": {},
   "outputs": [],
   "source": []
  }
 ],
 "metadata": {
  "kernelspec": {
   "display_name": "Python 3 (ipykernel)",
   "language": "python",
   "name": "python3"
  },
  "language_info": {
   "codemirror_mode": {
    "name": "ipython",
    "version": 3
   },
   "file_extension": ".py",
   "mimetype": "text/x-python",
   "name": "python",
   "nbconvert_exporter": "python",
   "pygments_lexer": "ipython3",
   "version": "3.10.5"
  },
  "toc": {
   "base_numbering": 1,
   "nav_menu": {},
   "number_sections": true,
   "sideBar": true,
   "skip_h1_title": false,
   "title_cell": "Table of Contents",
   "title_sidebar": "Contents",
   "toc_cell": false,
   "toc_position": {},
   "toc_section_display": true,
   "toc_window_display": false
  },
  "varInspector": {
   "cols": {
    "lenName": 16,
    "lenType": 16,
    "lenVar": 40
   },
   "kernels_config": {
    "python": {
     "delete_cmd_postfix": "",
     "delete_cmd_prefix": "del ",
     "library": "var_list.py",
     "varRefreshCmd": "print(var_dic_list())"
    },
    "r": {
     "delete_cmd_postfix": ") ",
     "delete_cmd_prefix": "rm(",
     "library": "var_list.r",
     "varRefreshCmd": "cat(var_dic_list()) "
    }
   },
   "types_to_exclude": [
    "module",
    "function",
    "builtin_function_or_method",
    "instance",
    "_Feature"
   ],
   "window_display": false
  }
 },
 "nbformat": 4,
 "nbformat_minor": 5
}
